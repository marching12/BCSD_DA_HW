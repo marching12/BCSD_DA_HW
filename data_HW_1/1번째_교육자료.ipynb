{
 "cells": [
  {
   "metadata": {},
   "cell_type": "markdown",
   "source": "# 파일 읽어오기",
   "id": "10c3ec6a2c0dbc73"
  },
  {
   "cell_type": "code",
   "id": "initial_id",
   "metadata": {
    "collapsed": true,
    "ExecuteTime": {
     "end_time": "2024-09-19T10:01:14.673389Z",
     "start_time": "2024-09-19T10:01:14.329522Z"
    }
   },
   "source": [
    "#라이브러리 임포트 \n",
    "import pandas as pd "
   ],
   "outputs": [],
   "execution_count": 1
  },
  {
   "metadata": {
    "ExecuteTime": {
     "end_time": "2024-09-19T10:04:25.365680Z",
     "start_time": "2024-09-19T10:04:25.358218Z"
    }
   },
   "cell_type": "code",
   "source": "df = pd.read_csv('1번째_파이썬_교육.csv')",
   "id": "267aca436ad029b7",
   "outputs": [],
   "execution_count": 2
  },
  {
   "metadata": {},
   "cell_type": "markdown",
   "source": "#데이터 확인",
   "id": "1c2e7bfbc50e3272"
  },
  {
   "metadata": {
    "ExecuteTime": {
     "end_time": "2024-09-19T10:04:26.390006Z",
     "start_time": "2024-09-19T10:04:26.381821Z"
    }
   },
   "cell_type": "code",
   "source": "df",
   "id": "ae6e5bc646d5e42b",
   "outputs": [
    {
     "data": {
      "text/plain": [
       "                           title    category subscriber       view    video\n",
       "0                      BLACKPINK  [음악/댄스/가수]      5140만  128억5130만     319개\n",
       "1                 Big Hit Labels  [음악/댄스/가수]      4550만  120억8966만     433개\n",
       "2                      BANGTANTV  [음악/댄스/가수]      3870만   54억7598만   1,319개\n",
       "3    Boram Tube Vlog [보람튜브 브이로그]    [키즈/어린이]      2650만  110억5288만     223개\n",
       "4                         SMTOWN  [음악/댄스/가수]      2450만  180억7532만   3,583개\n",
       "..                           ...         ...        ...        ...      ...\n",
       "995                Ranking World       [미분류]        40만    1억2752만     503개\n",
       "996                         급식걸즈    [취미/라이프]        40만    2억3901만     226개\n",
       "997                          OCN     [TV/방송]        40만    3억4583만  10,071개\n",
       "998                Bravo jamoasi       [미분류]        40만      6193만      25개\n",
       "999                  덕출 : DCTVGO     [TV/방송]        40만      8249만     202개\n",
       "\n",
       "[1000 rows x 5 columns]"
      ],
      "text/html": [
       "<div>\n",
       "<style scoped>\n",
       "    .dataframe tbody tr th:only-of-type {\n",
       "        vertical-align: middle;\n",
       "    }\n",
       "\n",
       "    .dataframe tbody tr th {\n",
       "        vertical-align: top;\n",
       "    }\n",
       "\n",
       "    .dataframe thead th {\n",
       "        text-align: right;\n",
       "    }\n",
       "</style>\n",
       "<table border=\"1\" class=\"dataframe\">\n",
       "  <thead>\n",
       "    <tr style=\"text-align: right;\">\n",
       "      <th></th>\n",
       "      <th>title</th>\n",
       "      <th>category</th>\n",
       "      <th>subscriber</th>\n",
       "      <th>view</th>\n",
       "      <th>video</th>\n",
       "    </tr>\n",
       "  </thead>\n",
       "  <tbody>\n",
       "    <tr>\n",
       "      <th>0</th>\n",
       "      <td>BLACKPINK</td>\n",
       "      <td>[음악/댄스/가수]</td>\n",
       "      <td>5140만</td>\n",
       "      <td>128억5130만</td>\n",
       "      <td>319개</td>\n",
       "    </tr>\n",
       "    <tr>\n",
       "      <th>1</th>\n",
       "      <td>Big Hit Labels</td>\n",
       "      <td>[음악/댄스/가수]</td>\n",
       "      <td>4550만</td>\n",
       "      <td>120억8966만</td>\n",
       "      <td>433개</td>\n",
       "    </tr>\n",
       "    <tr>\n",
       "      <th>2</th>\n",
       "      <td>BANGTANTV</td>\n",
       "      <td>[음악/댄스/가수]</td>\n",
       "      <td>3870만</td>\n",
       "      <td>54억7598만</td>\n",
       "      <td>1,319개</td>\n",
       "    </tr>\n",
       "    <tr>\n",
       "      <th>3</th>\n",
       "      <td>Boram Tube Vlog [보람튜브 브이로그]</td>\n",
       "      <td>[키즈/어린이]</td>\n",
       "      <td>2650만</td>\n",
       "      <td>110억5288만</td>\n",
       "      <td>223개</td>\n",
       "    </tr>\n",
       "    <tr>\n",
       "      <th>4</th>\n",
       "      <td>SMTOWN</td>\n",
       "      <td>[음악/댄스/가수]</td>\n",
       "      <td>2450만</td>\n",
       "      <td>180억7532만</td>\n",
       "      <td>3,583개</td>\n",
       "    </tr>\n",
       "    <tr>\n",
       "      <th>...</th>\n",
       "      <td>...</td>\n",
       "      <td>...</td>\n",
       "      <td>...</td>\n",
       "      <td>...</td>\n",
       "      <td>...</td>\n",
       "    </tr>\n",
       "    <tr>\n",
       "      <th>995</th>\n",
       "      <td>Ranking World</td>\n",
       "      <td>[미분류]</td>\n",
       "      <td>40만</td>\n",
       "      <td>1억2752만</td>\n",
       "      <td>503개</td>\n",
       "    </tr>\n",
       "    <tr>\n",
       "      <th>996</th>\n",
       "      <td>급식걸즈</td>\n",
       "      <td>[취미/라이프]</td>\n",
       "      <td>40만</td>\n",
       "      <td>2억3901만</td>\n",
       "      <td>226개</td>\n",
       "    </tr>\n",
       "    <tr>\n",
       "      <th>997</th>\n",
       "      <td>OCN</td>\n",
       "      <td>[TV/방송]</td>\n",
       "      <td>40만</td>\n",
       "      <td>3억4583만</td>\n",
       "      <td>10,071개</td>\n",
       "    </tr>\n",
       "    <tr>\n",
       "      <th>998</th>\n",
       "      <td>Bravo jamoasi</td>\n",
       "      <td>[미분류]</td>\n",
       "      <td>40만</td>\n",
       "      <td>6193만</td>\n",
       "      <td>25개</td>\n",
       "    </tr>\n",
       "    <tr>\n",
       "      <th>999</th>\n",
       "      <td>덕출 : DCTVGO</td>\n",
       "      <td>[TV/방송]</td>\n",
       "      <td>40만</td>\n",
       "      <td>8249만</td>\n",
       "      <td>202개</td>\n",
       "    </tr>\n",
       "  </tbody>\n",
       "</table>\n",
       "<p>1000 rows × 5 columns</p>\n",
       "</div>"
      ]
     },
     "execution_count": 3,
     "metadata": {},
     "output_type": "execute_result"
    }
   ],
   "execution_count": 3
  },
  {
   "metadata": {},
   "cell_type": "markdown",
   "source": "",
   "id": "e53d0c588c590382"
  },
  {
   "metadata": {
    "ExecuteTime": {
     "end_time": "2024-09-19T10:04:40.848910Z",
     "start_time": "2024-09-19T10:04:40.842433Z"
    }
   },
   "cell_type": "code",
   "source": "df.head(5)",
   "id": "dcbbc79cb733b29e",
   "outputs": [
    {
     "data": {
      "text/plain": [
       "                         title    category subscriber       view   video\n",
       "0                    BLACKPINK  [음악/댄스/가수]      5140만  128억5130만    319개\n",
       "1               Big Hit Labels  [음악/댄스/가수]      4550만  120억8966만    433개\n",
       "2                    BANGTANTV  [음악/댄스/가수]      3870만   54억7598만  1,319개\n",
       "3  Boram Tube Vlog [보람튜브 브이로그]    [키즈/어린이]      2650만  110억5288만    223개\n",
       "4                       SMTOWN  [음악/댄스/가수]      2450만  180억7532만  3,583개"
      ],
      "text/html": [
       "<div>\n",
       "<style scoped>\n",
       "    .dataframe tbody tr th:only-of-type {\n",
       "        vertical-align: middle;\n",
       "    }\n",
       "\n",
       "    .dataframe tbody tr th {\n",
       "        vertical-align: top;\n",
       "    }\n",
       "\n",
       "    .dataframe thead th {\n",
       "        text-align: right;\n",
       "    }\n",
       "</style>\n",
       "<table border=\"1\" class=\"dataframe\">\n",
       "  <thead>\n",
       "    <tr style=\"text-align: right;\">\n",
       "      <th></th>\n",
       "      <th>title</th>\n",
       "      <th>category</th>\n",
       "      <th>subscriber</th>\n",
       "      <th>view</th>\n",
       "      <th>video</th>\n",
       "    </tr>\n",
       "  </thead>\n",
       "  <tbody>\n",
       "    <tr>\n",
       "      <th>0</th>\n",
       "      <td>BLACKPINK</td>\n",
       "      <td>[음악/댄스/가수]</td>\n",
       "      <td>5140만</td>\n",
       "      <td>128억5130만</td>\n",
       "      <td>319개</td>\n",
       "    </tr>\n",
       "    <tr>\n",
       "      <th>1</th>\n",
       "      <td>Big Hit Labels</td>\n",
       "      <td>[음악/댄스/가수]</td>\n",
       "      <td>4550만</td>\n",
       "      <td>120억8966만</td>\n",
       "      <td>433개</td>\n",
       "    </tr>\n",
       "    <tr>\n",
       "      <th>2</th>\n",
       "      <td>BANGTANTV</td>\n",
       "      <td>[음악/댄스/가수]</td>\n",
       "      <td>3870만</td>\n",
       "      <td>54억7598만</td>\n",
       "      <td>1,319개</td>\n",
       "    </tr>\n",
       "    <tr>\n",
       "      <th>3</th>\n",
       "      <td>Boram Tube Vlog [보람튜브 브이로그]</td>\n",
       "      <td>[키즈/어린이]</td>\n",
       "      <td>2650만</td>\n",
       "      <td>110억5288만</td>\n",
       "      <td>223개</td>\n",
       "    </tr>\n",
       "    <tr>\n",
       "      <th>4</th>\n",
       "      <td>SMTOWN</td>\n",
       "      <td>[음악/댄스/가수]</td>\n",
       "      <td>2450만</td>\n",
       "      <td>180억7532만</td>\n",
       "      <td>3,583개</td>\n",
       "    </tr>\n",
       "  </tbody>\n",
       "</table>\n",
       "</div>"
      ]
     },
     "execution_count": 4,
     "metadata": {},
     "output_type": "execute_result"
    }
   ],
   "execution_count": 4
  },
  {
   "metadata": {
    "ExecuteTime": {
     "end_time": "2024-07-09T07:46:33.928927Z",
     "start_time": "2024-07-09T07:46:33.921950Z"
    }
   },
   "cell_type": "code",
   "source": "df.tail(5)",
   "id": "603f18f83f56d44b",
   "outputs": [
    {
     "data": {
      "text/plain": [
       "             title  category subscriber     view    video\n",
       "995  Ranking World     [미분류]        40만  1억2752만     503개\n",
       "996           급식걸즈  [취미/라이프]        40만  2억3901만     226개\n",
       "997            OCN   [TV/방송]        40만  3억4583만  10,071개\n",
       "998  Bravo jamoasi     [미분류]        40만    6193만      25개\n",
       "999    덕출 : DCTVGO   [TV/방송]        40만    8249만     202개"
      ],
      "text/html": [
       "<div>\n",
       "<style scoped>\n",
       "    .dataframe tbody tr th:only-of-type {\n",
       "        vertical-align: middle;\n",
       "    }\n",
       "\n",
       "    .dataframe tbody tr th {\n",
       "        vertical-align: top;\n",
       "    }\n",
       "\n",
       "    .dataframe thead th {\n",
       "        text-align: right;\n",
       "    }\n",
       "</style>\n",
       "<table border=\"1\" class=\"dataframe\">\n",
       "  <thead>\n",
       "    <tr style=\"text-align: right;\">\n",
       "      <th></th>\n",
       "      <th>title</th>\n",
       "      <th>category</th>\n",
       "      <th>subscriber</th>\n",
       "      <th>view</th>\n",
       "      <th>video</th>\n",
       "    </tr>\n",
       "  </thead>\n",
       "  <tbody>\n",
       "    <tr>\n",
       "      <th>995</th>\n",
       "      <td>Ranking World</td>\n",
       "      <td>[미분류]</td>\n",
       "      <td>40만</td>\n",
       "      <td>1억2752만</td>\n",
       "      <td>503개</td>\n",
       "    </tr>\n",
       "    <tr>\n",
       "      <th>996</th>\n",
       "      <td>급식걸즈</td>\n",
       "      <td>[취미/라이프]</td>\n",
       "      <td>40만</td>\n",
       "      <td>2억3901만</td>\n",
       "      <td>226개</td>\n",
       "    </tr>\n",
       "    <tr>\n",
       "      <th>997</th>\n",
       "      <td>OCN</td>\n",
       "      <td>[TV/방송]</td>\n",
       "      <td>40만</td>\n",
       "      <td>3억4583만</td>\n",
       "      <td>10,071개</td>\n",
       "    </tr>\n",
       "    <tr>\n",
       "      <th>998</th>\n",
       "      <td>Bravo jamoasi</td>\n",
       "      <td>[미분류]</td>\n",
       "      <td>40만</td>\n",
       "      <td>6193만</td>\n",
       "      <td>25개</td>\n",
       "    </tr>\n",
       "    <tr>\n",
       "      <th>999</th>\n",
       "      <td>덕출 : DCTVGO</td>\n",
       "      <td>[TV/방송]</td>\n",
       "      <td>40만</td>\n",
       "      <td>8249만</td>\n",
       "      <td>202개</td>\n",
       "    </tr>\n",
       "  </tbody>\n",
       "</table>\n",
       "</div>"
      ]
     },
     "execution_count": 25,
     "metadata": {},
     "output_type": "execute_result"
    }
   ],
   "execution_count": 25
  },
  {
   "metadata": {
    "ExecuteTime": {
     "end_time": "2024-07-09T07:45:31.080252Z",
     "start_time": "2024-07-09T07:45:31.076028Z"
    }
   },
   "cell_type": "code",
   "source": "df.info()",
   "id": "1a682537c650f28f",
   "outputs": [
    {
     "name": "stdout",
     "output_type": "stream",
     "text": [
      "<class 'pandas.core.frame.DataFrame'>\n",
      "RangeIndex: 1000 entries, 0 to 999\n",
      "Data columns (total 5 columns):\n",
      " #   Column      Non-Null Count  Dtype \n",
      "---  ------      --------------  ----- \n",
      " 0   title       1000 non-null   object\n",
      " 1   category    1000 non-null   object\n",
      " 2   subscriber  1000 non-null   object\n",
      " 3   view        1000 non-null   object\n",
      " 4   video       1000 non-null   object\n",
      "dtypes: object(5)\n",
      "memory usage: 39.2+ KB\n"
     ]
    }
   ],
   "execution_count": 6
  },
  {
   "metadata": {
    "ExecuteTime": {
     "end_time": "2024-07-09T07:46:36.438110Z",
     "start_time": "2024-07-09T07:46:36.434523Z"
    }
   },
   "cell_type": "code",
   "source": "df.shape",
   "id": "df76a94dbc6726f1",
   "outputs": [
    {
     "data": {
      "text/plain": [
       "(1000, 5)"
      ]
     },
     "execution_count": 26,
     "metadata": {},
     "output_type": "execute_result"
    }
   ],
   "execution_count": 26
  },
  {
   "metadata": {},
   "cell_type": "markdown",
   "source": "#데이터의 타입확인",
   "id": "2e6dbc1080cea218"
  },
  {
   "metadata": {
    "ExecuteTime": {
     "end_time": "2024-07-09T07:46:38.815511Z",
     "start_time": "2024-07-09T07:46:38.810985Z"
    }
   },
   "cell_type": "code",
   "source": "df.dtypes",
   "id": "20fe79a14a40ef9a",
   "outputs": [
    {
     "data": {
      "text/plain": [
       "title         object\n",
       "category      object\n",
       "subscriber    object\n",
       "view          object\n",
       "video         object\n",
       "dtype: object"
      ]
     },
     "execution_count": 27,
     "metadata": {},
     "output_type": "execute_result"
    }
   ],
   "execution_count": 27
  },
  {
   "metadata": {
    "ExecuteTime": {
     "end_time": "2024-07-09T07:46:40.344662Z",
     "start_time": "2024-07-09T07:46:40.342125Z"
    }
   },
   "cell_type": "code",
   "source": "print(df['title'].dtypes)",
   "id": "7dac9b334f93947d",
   "outputs": [
    {
     "name": "stdout",
     "output_type": "stream",
     "text": [
      "object\n"
     ]
    }
   ],
   "execution_count": 28
  },
  {
   "metadata": {
    "ExecuteTime": {
     "end_time": "2024-07-09T07:46:40.903336Z",
     "start_time": "2024-07-09T07:46:40.900991Z"
    }
   },
   "cell_type": "code",
   "source": "#df['subscriber'].astype('int64')",
   "id": "459da1c6b93e292f",
   "outputs": [],
   "execution_count": 29
  },
  {
   "metadata": {},
   "cell_type": "markdown",
   "source": "#데이터 값 변경 방법 ",
   "id": "2ab228a3bc96b597"
  },
  {
   "metadata": {
    "ExecuteTime": {
     "end_time": "2024-07-09T07:45:39.826300Z",
     "start_time": "2024-07-09T07:45:39.819918Z"
    }
   },
   "cell_type": "code",
   "source": "df['subscriber'].repl ace('만', '0000',  regex = True).astype('int64')",
   "id": "13df45888617fda1",
   "outputs": [
    {
     "data": {
      "text/plain": [
       "0      51400000\n",
       "1      45500000\n",
       "2      38700000\n",
       "3      26500000\n",
       "4      24500000\n",
       "         ...   \n",
       "995      400000\n",
       "996      400000\n",
       "997      400000\n",
       "998      400000\n",
       "999      400000\n",
       "Name: subscriber, Length: 1000, dtype: int64"
      ]
     },
     "execution_count": 11,
     "metadata": {},
     "output_type": "execute_result"
    }
   ],
   "execution_count": 11
  },
  {
   "metadata": {
    "ExecuteTime": {
     "end_time": "2024-07-09T07:46:55.743914Z",
     "start_time": "2024-07-09T07:46:55.738464Z"
    }
   },
   "cell_type": "code",
   "source": "df['subscriber']",
   "id": "6172779506e38724",
   "outputs": [
    {
     "data": {
      "text/plain": [
       "0      5140만\n",
       "1      4550만\n",
       "2      3870만\n",
       "3      2650만\n",
       "4      2450만\n",
       "       ...  \n",
       "995      40만\n",
       "996      40만\n",
       "997      40만\n",
       "998      40만\n",
       "999      40만\n",
       "Name: subscriber, Length: 1000, dtype: object"
      ]
     },
     "execution_count": 30,
     "metadata": {},
     "output_type": "execute_result"
    }
   ],
   "execution_count": 30
  },
  {
   "metadata": {
    "ExecuteTime": {
     "end_time": "2024-07-09T07:46:56.346260Z",
     "start_time": "2024-07-09T07:46:56.343444Z"
    }
   },
   "cell_type": "code",
   "source": "df['subscriber']=df['subscriber'].replace('만', '0000', regex = True).astype('int64')",
   "id": "33eed7451866254c",
   "outputs": [],
   "execution_count": 31
  },
  {
   "metadata": {
    "ExecuteTime": {
     "end_time": "2024-07-09T07:46:57.423621Z",
     "start_time": "2024-07-09T07:46:57.419690Z"
    }
   },
   "cell_type": "code",
   "source": "df['subscriber']",
   "id": "609ee10d71f23640",
   "outputs": [
    {
     "data": {
      "text/plain": [
       "0      51400000\n",
       "1      45500000\n",
       "2      38700000\n",
       "3      26500000\n",
       "4      24500000\n",
       "         ...   \n",
       "995      400000\n",
       "996      400000\n",
       "997      400000\n",
       "998      400000\n",
       "999      400000\n",
       "Name: subscriber, Length: 1000, dtype: int64"
      ]
     },
     "execution_count": 32,
     "metadata": {},
     "output_type": "execute_result"
    }
   ],
   "execution_count": 32
  },
  {
   "metadata": {
    "ExecuteTime": {
     "end_time": "2024-07-09T07:47:01.916100Z",
     "start_time": "2024-07-09T07:47:01.910959Z"
    }
   },
   "cell_type": "code",
   "source": "df['view'].head(10)",
   "id": "bed75515fd8279",
   "outputs": [
    {
     "data": {
      "text/plain": [
       "0    128억5130만\n",
       "1    120억8966만\n",
       "2     54억7598만\n",
       "3    110억5288만\n",
       "4    180억7532만\n",
       "5     57억5358만\n",
       "6    178억6042만\n",
       "7    105억5330만\n",
       "8    147억9692만\n",
       "9     36억5668만\n",
       "Name: view, dtype: object"
      ]
     },
     "execution_count": 34,
     "metadata": {},
     "output_type": "execute_result"
    }
   ],
   "execution_count": 34
  },
  {
   "metadata": {
    "ExecuteTime": {
     "end_time": "2024-07-09T07:47:09.742744Z",
     "start_time": "2024-07-09T07:47:09.735443Z"
    }
   },
   "cell_type": "code",
   "source": "df['view'] = df['view'].replace(['억', '만'], ['', '0000'], regex=True).astype('int64')",
   "id": "eb082792f03e76c1",
   "outputs": [],
   "execution_count": 35
  },
  {
   "metadata": {
    "ExecuteTime": {
     "end_time": "2024-07-09T07:47:11.055758Z",
     "start_time": "2024-07-09T07:47:11.050155Z"
    }
   },
   "cell_type": "code",
   "source": "df['view'].head(10)",
   "id": "d112b5ae028762c5",
   "outputs": [
    {
     "data": {
      "text/plain": [
       "0    12851300000\n",
       "1    12089660000\n",
       "2     5475980000\n",
       "3    11052880000\n",
       "4    18075320000\n",
       "5     5753580000\n",
       "6    17860420000\n",
       "7    10553300000\n",
       "8    14796920000\n",
       "9     3656680000\n",
       "Name: view, dtype: int64"
      ]
     },
     "execution_count": 36,
     "metadata": {},
     "output_type": "execute_result"
    }
   ],
   "execution_count": 36
  },
  {
   "metadata": {
    "ExecuteTime": {
     "end_time": "2024-07-09T07:47:16.008603Z",
     "start_time": "2024-07-09T07:47:16.004465Z"
    }
   },
   "cell_type": "code",
   "source": "df['video'].head()",
   "id": "c4a4c56ef3c26d52",
   "outputs": [
    {
     "data": {
      "text/plain": [
       "0      319개\n",
       "1      433개\n",
       "2    1,319개\n",
       "3      223개\n",
       "4    3,583개\n",
       "Name: video, dtype: object"
      ]
     },
     "execution_count": 37,
     "metadata": {},
     "output_type": "execute_result"
    }
   ],
   "execution_count": 37
  },
  {
   "metadata": {
    "ExecuteTime": {
     "end_time": "2024-07-09T07:47:20.052309Z",
     "start_time": "2024-07-09T07:47:20.047777Z"
    }
   },
   "cell_type": "code",
   "source": "df['video']=df['video'].replace([',', '개'], '', regex=True).astype('int32')",
   "id": "f0507f56e1aa58a9",
   "outputs": [],
   "execution_count": 38
  },
  {
   "metadata": {
    "ExecuteTime": {
     "end_time": "2024-07-09T07:47:20.741892Z",
     "start_time": "2024-07-09T07:47:20.735980Z"
    }
   },
   "cell_type": "code",
   "source": "df.info()",
   "id": "d90b73debbb0b33a",
   "outputs": [
    {
     "name": "stdout",
     "output_type": "stream",
     "text": [
      "<class 'pandas.core.frame.DataFrame'>\n",
      "RangeIndex: 1000 entries, 0 to 999\n",
      "Data columns (total 5 columns):\n",
      " #   Column      Non-Null Count  Dtype \n",
      "---  ------      --------------  ----- \n",
      " 0   title       1000 non-null   object\n",
      " 1   category    1000 non-null   object\n",
      " 2   subscriber  1000 non-null   int64 \n",
      " 3   view        1000 non-null   int64 \n",
      " 4   video       1000 non-null   int32 \n",
      "dtypes: int32(1), int64(2), object(2)\n",
      "memory usage: 35.3+ KB\n"
     ]
    }
   ],
   "execution_count": 39
  },
  {
   "metadata": {},
   "cell_type": "markdown",
   "source": "",
   "id": "dbc8de2bfb84adbd"
  },
  {
   "metadata": {
    "ExecuteTime": {
     "end_time": "2024-07-09T07:47:50.849717Z",
     "start_time": "2024-07-09T07:47:50.840188Z"
    }
   },
   "cell_type": "code",
   "source": "df['category'].value_counts()",
   "id": "9e95d3e8d128580a",
   "outputs": [
    {
     "data": {
      "text/plain": [
       "category\n",
       "[음악/댄스/가수]     175\n",
       "[TV/방송]        161\n",
       "[게임]           101\n",
       "[키즈/어린이]        95\n",
       "[음식/요리/레시피]     88\n",
       "[BJ/인물/연예인]     68\n",
       "[패션/미용]         57\n",
       "[뉴스/정치/사회]      56\n",
       "[미분류]           40\n",
       "[취미/라이프]        40\n",
       "[영화/만화/애니]      33\n",
       "[교육/강의]         23\n",
       "[애완/반려동물]       20\n",
       "[스포츠/운동]        12\n",
       "[IT/기술/컴퓨터]      8\n",
       "[해외]             6\n",
       "[주식/경제/부동산]      5\n",
       "[국내/해외/여행]       5\n",
       "[회사/오피셜]         4\n",
       "[자동차]            2\n",
       "[취미]             1\n",
       "Name: count, dtype: int64"
      ]
     },
     "execution_count": 40,
     "metadata": {},
     "output_type": "execute_result"
    }
   ],
   "execution_count": 40
  },
  {
   "metadata": {
    "ExecuteTime": {
     "end_time": "2024-07-09T07:50:39.703364Z",
     "start_time": "2024-07-09T07:50:39.696278Z"
    }
   },
   "cell_type": "code",
   "source": [
    "# [1-31] 'subscriber' 가 가장 많은 5개의 채널을 알아봅니다.\n",
    "df.sort_values('subscriber', ascending=False).head()"
   ],
   "id": "db7a5827a99bdb08",
   "outputs": [
    {
     "data": {
      "text/plain": [
       "                         title    category  subscriber         view  video\n",
       "0                    BLACKPINK  [음악/댄스/가수]    51400000  12851300000    319\n",
       "1               Big Hit Labels  [음악/댄스/가수]    45500000  12089660000    433\n",
       "2                    BANGTANTV  [음악/댄스/가수]    38700000   5475980000   1319\n",
       "3  Boram Tube Vlog [보람튜브 브이로그]    [키즈/어린이]    26500000  11052880000    223\n",
       "4                       SMTOWN  [음악/댄스/가수]    24500000  18075320000   3583"
      ],
      "text/html": [
       "<div>\n",
       "<style scoped>\n",
       "    .dataframe tbody tr th:only-of-type {\n",
       "        vertical-align: middle;\n",
       "    }\n",
       "\n",
       "    .dataframe tbody tr th {\n",
       "        vertical-align: top;\n",
       "    }\n",
       "\n",
       "    .dataframe thead th {\n",
       "        text-align: right;\n",
       "    }\n",
       "</style>\n",
       "<table border=\"1\" class=\"dataframe\">\n",
       "  <thead>\n",
       "    <tr style=\"text-align: right;\">\n",
       "      <th></th>\n",
       "      <th>title</th>\n",
       "      <th>category</th>\n",
       "      <th>subscriber</th>\n",
       "      <th>view</th>\n",
       "      <th>video</th>\n",
       "    </tr>\n",
       "  </thead>\n",
       "  <tbody>\n",
       "    <tr>\n",
       "      <th>0</th>\n",
       "      <td>BLACKPINK</td>\n",
       "      <td>[음악/댄스/가수]</td>\n",
       "      <td>51400000</td>\n",
       "      <td>12851300000</td>\n",
       "      <td>319</td>\n",
       "    </tr>\n",
       "    <tr>\n",
       "      <th>1</th>\n",
       "      <td>Big Hit Labels</td>\n",
       "      <td>[음악/댄스/가수]</td>\n",
       "      <td>45500000</td>\n",
       "      <td>12089660000</td>\n",
       "      <td>433</td>\n",
       "    </tr>\n",
       "    <tr>\n",
       "      <th>2</th>\n",
       "      <td>BANGTANTV</td>\n",
       "      <td>[음악/댄스/가수]</td>\n",
       "      <td>38700000</td>\n",
       "      <td>5475980000</td>\n",
       "      <td>1319</td>\n",
       "    </tr>\n",
       "    <tr>\n",
       "      <th>3</th>\n",
       "      <td>Boram Tube Vlog [보람튜브 브이로그]</td>\n",
       "      <td>[키즈/어린이]</td>\n",
       "      <td>26500000</td>\n",
       "      <td>11052880000</td>\n",
       "      <td>223</td>\n",
       "    </tr>\n",
       "    <tr>\n",
       "      <th>4</th>\n",
       "      <td>SMTOWN</td>\n",
       "      <td>[음악/댄스/가수]</td>\n",
       "      <td>24500000</td>\n",
       "      <td>18075320000</td>\n",
       "      <td>3583</td>\n",
       "    </tr>\n",
       "  </tbody>\n",
       "</table>\n",
       "</div>"
      ]
     },
     "execution_count": 42,
     "metadata": {},
     "output_type": "execute_result"
    }
   ],
   "execution_count": 42
  },
  {
   "metadata": {
    "ExecuteTime": {
     "end_time": "2024-07-09T07:50:40.704824Z",
     "start_time": "2024-07-09T07:50:40.699248Z"
    }
   },
   "cell_type": "code",
   "source": [
    "# [1-32] 'view'가 가장 많은 5개 채널을 알아봅니다\n",
    "df.sort_values('view', ascending=False).head()"
   ],
   "id": "47b475d51c809274",
   "outputs": [
    {
     "data": {
      "text/plain": [
       "              title    category  subscriber         view  video\n",
       "4            SMTOWN  [음악/댄스/가수]    24500000  18075320000   3583\n",
       "6      1theK (원더케이)  [음악/댄스/가수]    20900000  17860420000  13291\n",
       "8  ArianaGrandeVevo  [음악/댄스/가수]    18200000  14796920000    112\n",
       "0         BLACKPINK  [음악/댄스/가수]    51400000  12851300000    319\n",
       "1    Big Hit Labels  [음악/댄스/가수]    45500000  12089660000    433"
      ],
      "text/html": [
       "<div>\n",
       "<style scoped>\n",
       "    .dataframe tbody tr th:only-of-type {\n",
       "        vertical-align: middle;\n",
       "    }\n",
       "\n",
       "    .dataframe tbody tr th {\n",
       "        vertical-align: top;\n",
       "    }\n",
       "\n",
       "    .dataframe thead th {\n",
       "        text-align: right;\n",
       "    }\n",
       "</style>\n",
       "<table border=\"1\" class=\"dataframe\">\n",
       "  <thead>\n",
       "    <tr style=\"text-align: right;\">\n",
       "      <th></th>\n",
       "      <th>title</th>\n",
       "      <th>category</th>\n",
       "      <th>subscriber</th>\n",
       "      <th>view</th>\n",
       "      <th>video</th>\n",
       "    </tr>\n",
       "  </thead>\n",
       "  <tbody>\n",
       "    <tr>\n",
       "      <th>4</th>\n",
       "      <td>SMTOWN</td>\n",
       "      <td>[음악/댄스/가수]</td>\n",
       "      <td>24500000</td>\n",
       "      <td>18075320000</td>\n",
       "      <td>3583</td>\n",
       "    </tr>\n",
       "    <tr>\n",
       "      <th>6</th>\n",
       "      <td>1theK (원더케이)</td>\n",
       "      <td>[음악/댄스/가수]</td>\n",
       "      <td>20900000</td>\n",
       "      <td>17860420000</td>\n",
       "      <td>13291</td>\n",
       "    </tr>\n",
       "    <tr>\n",
       "      <th>8</th>\n",
       "      <td>ArianaGrandeVevo</td>\n",
       "      <td>[음악/댄스/가수]</td>\n",
       "      <td>18200000</td>\n",
       "      <td>14796920000</td>\n",
       "      <td>112</td>\n",
       "    </tr>\n",
       "    <tr>\n",
       "      <th>0</th>\n",
       "      <td>BLACKPINK</td>\n",
       "      <td>[음악/댄스/가수]</td>\n",
       "      <td>51400000</td>\n",
       "      <td>12851300000</td>\n",
       "      <td>319</td>\n",
       "    </tr>\n",
       "    <tr>\n",
       "      <th>1</th>\n",
       "      <td>Big Hit Labels</td>\n",
       "      <td>[음악/댄스/가수]</td>\n",
       "      <td>45500000</td>\n",
       "      <td>12089660000</td>\n",
       "      <td>433</td>\n",
       "    </tr>\n",
       "  </tbody>\n",
       "</table>\n",
       "</div>"
      ]
     },
     "execution_count": 43,
     "metadata": {},
     "output_type": "execute_result"
    }
   ],
   "execution_count": 43
  },
  {
   "metadata": {
    "ExecuteTime": {
     "end_time": "2024-07-09T07:50:41.530268Z",
     "start_time": "2024-07-09T07:50:41.525332Z"
    }
   },
   "cell_type": "code",
   "source": [
    "#  'video'가 가장 많은 5개 채널을 알아봅니다\n",
    "df.sort_values('video', ascending=False).head()"
   ],
   "id": "bded80b5651babe9",
   "outputs": [
    {
     "data": {
      "text/plain": [
       "                 title    category  subscriber        view   video\n",
       "169           YTN news  [뉴스/정치/사회]     1970000  3801710000  492791\n",
       "60           SBS Drama     [TV/방송]     4360000  4260860000  339029\n",
       "737             연합뉴스TV  [뉴스/정치/사회]      550000   697650000  311370\n",
       "57   SBS Entertainment     [TV/방송]     4490000  4516190000  210810\n",
       "17                 CNN  [뉴스/정치/사회]    10900000  7899750000  149530"
      ],
      "text/html": [
       "<div>\n",
       "<style scoped>\n",
       "    .dataframe tbody tr th:only-of-type {\n",
       "        vertical-align: middle;\n",
       "    }\n",
       "\n",
       "    .dataframe tbody tr th {\n",
       "        vertical-align: top;\n",
       "    }\n",
       "\n",
       "    .dataframe thead th {\n",
       "        text-align: right;\n",
       "    }\n",
       "</style>\n",
       "<table border=\"1\" class=\"dataframe\">\n",
       "  <thead>\n",
       "    <tr style=\"text-align: right;\">\n",
       "      <th></th>\n",
       "      <th>title</th>\n",
       "      <th>category</th>\n",
       "      <th>subscriber</th>\n",
       "      <th>view</th>\n",
       "      <th>video</th>\n",
       "    </tr>\n",
       "  </thead>\n",
       "  <tbody>\n",
       "    <tr>\n",
       "      <th>169</th>\n",
       "      <td>YTN news</td>\n",
       "      <td>[뉴스/정치/사회]</td>\n",
       "      <td>1970000</td>\n",
       "      <td>3801710000</td>\n",
       "      <td>492791</td>\n",
       "    </tr>\n",
       "    <tr>\n",
       "      <th>60</th>\n",
       "      <td>SBS Drama</td>\n",
       "      <td>[TV/방송]</td>\n",
       "      <td>4360000</td>\n",
       "      <td>4260860000</td>\n",
       "      <td>339029</td>\n",
       "    </tr>\n",
       "    <tr>\n",
       "      <th>737</th>\n",
       "      <td>연합뉴스TV</td>\n",
       "      <td>[뉴스/정치/사회]</td>\n",
       "      <td>550000</td>\n",
       "      <td>697650000</td>\n",
       "      <td>311370</td>\n",
       "    </tr>\n",
       "    <tr>\n",
       "      <th>57</th>\n",
       "      <td>SBS Entertainment</td>\n",
       "      <td>[TV/방송]</td>\n",
       "      <td>4490000</td>\n",
       "      <td>4516190000</td>\n",
       "      <td>210810</td>\n",
       "    </tr>\n",
       "    <tr>\n",
       "      <th>17</th>\n",
       "      <td>CNN</td>\n",
       "      <td>[뉴스/정치/사회]</td>\n",
       "      <td>10900000</td>\n",
       "      <td>7899750000</td>\n",
       "      <td>149530</td>\n",
       "    </tr>\n",
       "  </tbody>\n",
       "</table>\n",
       "</div>"
      ]
     },
     "execution_count": 44,
     "metadata": {},
     "output_type": "execute_result"
    }
   ],
   "execution_count": 44
  },
  {
   "metadata": {
    "ExecuteTime": {
     "end_time": "2024-07-09T07:50:42.656734Z",
     "start_time": "2024-07-09T07:50:42.651980Z"
    }
   },
   "cell_type": "code",
   "source": [
    "# 'video'가 가장 적은 5개 채널을 알아봅니다\n",
    "df.sort_values('video', ascending=True).head()"
   ],
   "id": "e3ae3bedf0bbcaec",
   "outputs": [
    {
     "data": {
      "text/plain": [
       "                                        title     category  subscriber  \\\n",
       "194                           OfficialGDRAGON   [음악/댄스/가수]     1750000   \n",
       "128                                 tzuyang쯔양  [음식/요리/레시피]     2570000   \n",
       "964                                        fx   [음악/댄스/가수]      410000   \n",
       "454                                        CL   [음악/댄스/가수]      840000   \n",
       "742  Trouble Maker (Official YouTube Channel)   [음악/댄스/가수]      540000   \n",
       "\n",
       "          view  video  \n",
       "194          0      0  \n",
       "128    2570000      1  \n",
       "964     380000      3  \n",
       "454   52470000      5  \n",
       "742  173840000      9  "
      ],
      "text/html": [
       "<div>\n",
       "<style scoped>\n",
       "    .dataframe tbody tr th:only-of-type {\n",
       "        vertical-align: middle;\n",
       "    }\n",
       "\n",
       "    .dataframe tbody tr th {\n",
       "        vertical-align: top;\n",
       "    }\n",
       "\n",
       "    .dataframe thead th {\n",
       "        text-align: right;\n",
       "    }\n",
       "</style>\n",
       "<table border=\"1\" class=\"dataframe\">\n",
       "  <thead>\n",
       "    <tr style=\"text-align: right;\">\n",
       "      <th></th>\n",
       "      <th>title</th>\n",
       "      <th>category</th>\n",
       "      <th>subscriber</th>\n",
       "      <th>view</th>\n",
       "      <th>video</th>\n",
       "    </tr>\n",
       "  </thead>\n",
       "  <tbody>\n",
       "    <tr>\n",
       "      <th>194</th>\n",
       "      <td>OfficialGDRAGON</td>\n",
       "      <td>[음악/댄스/가수]</td>\n",
       "      <td>1750000</td>\n",
       "      <td>0</td>\n",
       "      <td>0</td>\n",
       "    </tr>\n",
       "    <tr>\n",
       "      <th>128</th>\n",
       "      <td>tzuyang쯔양</td>\n",
       "      <td>[음식/요리/레시피]</td>\n",
       "      <td>2570000</td>\n",
       "      <td>2570000</td>\n",
       "      <td>1</td>\n",
       "    </tr>\n",
       "    <tr>\n",
       "      <th>964</th>\n",
       "      <td>fx</td>\n",
       "      <td>[음악/댄스/가수]</td>\n",
       "      <td>410000</td>\n",
       "      <td>380000</td>\n",
       "      <td>3</td>\n",
       "    </tr>\n",
       "    <tr>\n",
       "      <th>454</th>\n",
       "      <td>CL</td>\n",
       "      <td>[음악/댄스/가수]</td>\n",
       "      <td>840000</td>\n",
       "      <td>52470000</td>\n",
       "      <td>5</td>\n",
       "    </tr>\n",
       "    <tr>\n",
       "      <th>742</th>\n",
       "      <td>Trouble Maker (Official YouTube Channel)</td>\n",
       "      <td>[음악/댄스/가수]</td>\n",
       "      <td>540000</td>\n",
       "      <td>173840000</td>\n",
       "      <td>9</td>\n",
       "    </tr>\n",
       "  </tbody>\n",
       "</table>\n",
       "</div>"
      ]
     },
     "execution_count": 45,
     "metadata": {},
     "output_type": "execute_result"
    }
   ],
   "execution_count": 45
  },
  {
   "metadata": {
    "ExecuteTime": {
     "end_time": "2024-07-09T07:50:44.593617Z",
     "start_time": "2024-07-09T07:50:44.586507Z"
    }
   },
   "cell_type": "code",
   "source": [
    "#  'category'로 오름차순, 'subscriber'로 내림차순 정렬해 봅니다.\n",
    "df.sort_values(['category', 'subscriber'], ascending=[True, False])"
   ],
   "id": "9a201630de77a07e",
   "outputs": [
    {
     "data": {
      "text/plain": [
       "                      title     category  subscriber        view  video\n",
       "52      [Awesome Haeun]어썸하은  [BJ/인물/연예인]     4840000   703070000    419\n",
       "75   영국남자 Korean Englishman  [BJ/인물/연예인]     3940000  1160110000    411\n",
       "79              워크맨-Workman  [BJ/인물/연예인]     3810000   469330000     76\n",
       "82              waveya 2011  [BJ/인물/연예인]     3720000  1299280000    647\n",
       "84                 허팝Heopop  [BJ/인물/연예인]     3710000  2748310000   1685\n",
       "..                      ...          ...         ...         ...    ...\n",
       "671            AshleyMariee         [해외]      590000    55950000   2033\n",
       "53                  Samsung     [회사/오피셜]     4780000   585350000   1135\n",
       "108               Billboard     [회사/오피셜]     2900000  1010800000   6100\n",
       "709           미스&미스터트롯 공식계정     [회사/오피셜]      570000   202340000    659\n",
       "722                  KB국민카드     [회사/오피셜]      560000   187960000    443\n",
       "\n",
       "[1000 rows x 5 columns]"
      ],
      "text/html": [
       "<div>\n",
       "<style scoped>\n",
       "    .dataframe tbody tr th:only-of-type {\n",
       "        vertical-align: middle;\n",
       "    }\n",
       "\n",
       "    .dataframe tbody tr th {\n",
       "        vertical-align: top;\n",
       "    }\n",
       "\n",
       "    .dataframe thead th {\n",
       "        text-align: right;\n",
       "    }\n",
       "</style>\n",
       "<table border=\"1\" class=\"dataframe\">\n",
       "  <thead>\n",
       "    <tr style=\"text-align: right;\">\n",
       "      <th></th>\n",
       "      <th>title</th>\n",
       "      <th>category</th>\n",
       "      <th>subscriber</th>\n",
       "      <th>view</th>\n",
       "      <th>video</th>\n",
       "    </tr>\n",
       "  </thead>\n",
       "  <tbody>\n",
       "    <tr>\n",
       "      <th>52</th>\n",
       "      <td>[Awesome Haeun]어썸하은</td>\n",
       "      <td>[BJ/인물/연예인]</td>\n",
       "      <td>4840000</td>\n",
       "      <td>703070000</td>\n",
       "      <td>419</td>\n",
       "    </tr>\n",
       "    <tr>\n",
       "      <th>75</th>\n",
       "      <td>영국남자 Korean Englishman</td>\n",
       "      <td>[BJ/인물/연예인]</td>\n",
       "      <td>3940000</td>\n",
       "      <td>1160110000</td>\n",
       "      <td>411</td>\n",
       "    </tr>\n",
       "    <tr>\n",
       "      <th>79</th>\n",
       "      <td>워크맨-Workman</td>\n",
       "      <td>[BJ/인물/연예인]</td>\n",
       "      <td>3810000</td>\n",
       "      <td>469330000</td>\n",
       "      <td>76</td>\n",
       "    </tr>\n",
       "    <tr>\n",
       "      <th>82</th>\n",
       "      <td>waveya 2011</td>\n",
       "      <td>[BJ/인물/연예인]</td>\n",
       "      <td>3720000</td>\n",
       "      <td>1299280000</td>\n",
       "      <td>647</td>\n",
       "    </tr>\n",
       "    <tr>\n",
       "      <th>84</th>\n",
       "      <td>허팝Heopop</td>\n",
       "      <td>[BJ/인물/연예인]</td>\n",
       "      <td>3710000</td>\n",
       "      <td>2748310000</td>\n",
       "      <td>1685</td>\n",
       "    </tr>\n",
       "    <tr>\n",
       "      <th>...</th>\n",
       "      <td>...</td>\n",
       "      <td>...</td>\n",
       "      <td>...</td>\n",
       "      <td>...</td>\n",
       "      <td>...</td>\n",
       "    </tr>\n",
       "    <tr>\n",
       "      <th>671</th>\n",
       "      <td>AshleyMariee</td>\n",
       "      <td>[해외]</td>\n",
       "      <td>590000</td>\n",
       "      <td>55950000</td>\n",
       "      <td>2033</td>\n",
       "    </tr>\n",
       "    <tr>\n",
       "      <th>53</th>\n",
       "      <td>Samsung</td>\n",
       "      <td>[회사/오피셜]</td>\n",
       "      <td>4780000</td>\n",
       "      <td>585350000</td>\n",
       "      <td>1135</td>\n",
       "    </tr>\n",
       "    <tr>\n",
       "      <th>108</th>\n",
       "      <td>Billboard</td>\n",
       "      <td>[회사/오피셜]</td>\n",
       "      <td>2900000</td>\n",
       "      <td>1010800000</td>\n",
       "      <td>6100</td>\n",
       "    </tr>\n",
       "    <tr>\n",
       "      <th>709</th>\n",
       "      <td>미스&amp;미스터트롯 공식계정</td>\n",
       "      <td>[회사/오피셜]</td>\n",
       "      <td>570000</td>\n",
       "      <td>202340000</td>\n",
       "      <td>659</td>\n",
       "    </tr>\n",
       "    <tr>\n",
       "      <th>722</th>\n",
       "      <td>KB국민카드</td>\n",
       "      <td>[회사/오피셜]</td>\n",
       "      <td>560000</td>\n",
       "      <td>187960000</td>\n",
       "      <td>443</td>\n",
       "    </tr>\n",
       "  </tbody>\n",
       "</table>\n",
       "<p>1000 rows × 5 columns</p>\n",
       "</div>"
      ]
     },
     "execution_count": 46,
     "metadata": {},
     "output_type": "execute_result"
    }
   ],
   "execution_count": 46
  },
  {
   "metadata": {
    "ExecuteTime": {
     "end_time": "2024-07-09T07:50:57.731857Z",
     "start_time": "2024-07-09T07:50:57.724266Z"
    }
   },
   "cell_type": "code",
   "source": [
    "#  'category'가 '[음악/댄스/가수]'인 채널의 subscriber TOP5를 알아봅니다.\n",
    "df[df['category']=='[음악/댄스/가수]'].sort_values('subscriber', ascending=False).head()"
   ],
   "id": "2501a2633cc4164c",
   "outputs": [
    {
     "data": {
      "text/plain": [
       "                   title    category  subscriber         view  video\n",
       "0              BLACKPINK  [음악/댄스/가수]    51400000  12851300000    319\n",
       "1         Big Hit Labels  [음악/댄스/가수]    45500000  12089660000    433\n",
       "2              BANGTANTV  [음악/댄스/가수]    38700000   5475980000   1319\n",
       "4                 SMTOWN  [음악/댄스/가수]    24500000  18075320000   3583\n",
       "5  1MILLION Dance Studio  [음악/댄스/가수]    22300000   5753580000   2205"
      ],
      "text/html": [
       "<div>\n",
       "<style scoped>\n",
       "    .dataframe tbody tr th:only-of-type {\n",
       "        vertical-align: middle;\n",
       "    }\n",
       "\n",
       "    .dataframe tbody tr th {\n",
       "        vertical-align: top;\n",
       "    }\n",
       "\n",
       "    .dataframe thead th {\n",
       "        text-align: right;\n",
       "    }\n",
       "</style>\n",
       "<table border=\"1\" class=\"dataframe\">\n",
       "  <thead>\n",
       "    <tr style=\"text-align: right;\">\n",
       "      <th></th>\n",
       "      <th>title</th>\n",
       "      <th>category</th>\n",
       "      <th>subscriber</th>\n",
       "      <th>view</th>\n",
       "      <th>video</th>\n",
       "    </tr>\n",
       "  </thead>\n",
       "  <tbody>\n",
       "    <tr>\n",
       "      <th>0</th>\n",
       "      <td>BLACKPINK</td>\n",
       "      <td>[음악/댄스/가수]</td>\n",
       "      <td>51400000</td>\n",
       "      <td>12851300000</td>\n",
       "      <td>319</td>\n",
       "    </tr>\n",
       "    <tr>\n",
       "      <th>1</th>\n",
       "      <td>Big Hit Labels</td>\n",
       "      <td>[음악/댄스/가수]</td>\n",
       "      <td>45500000</td>\n",
       "      <td>12089660000</td>\n",
       "      <td>433</td>\n",
       "    </tr>\n",
       "    <tr>\n",
       "      <th>2</th>\n",
       "      <td>BANGTANTV</td>\n",
       "      <td>[음악/댄스/가수]</td>\n",
       "      <td>38700000</td>\n",
       "      <td>5475980000</td>\n",
       "      <td>1319</td>\n",
       "    </tr>\n",
       "    <tr>\n",
       "      <th>4</th>\n",
       "      <td>SMTOWN</td>\n",
       "      <td>[음악/댄스/가수]</td>\n",
       "      <td>24500000</td>\n",
       "      <td>18075320000</td>\n",
       "      <td>3583</td>\n",
       "    </tr>\n",
       "    <tr>\n",
       "      <th>5</th>\n",
       "      <td>1MILLION Dance Studio</td>\n",
       "      <td>[음악/댄스/가수]</td>\n",
       "      <td>22300000</td>\n",
       "      <td>5753580000</td>\n",
       "      <td>2205</td>\n",
       "    </tr>\n",
       "  </tbody>\n",
       "</table>\n",
       "</div>"
      ]
     },
     "execution_count": 48,
     "metadata": {},
     "output_type": "execute_result"
    }
   ],
   "execution_count": 48
  },
  {
   "metadata": {
    "ExecuteTime": {
     "end_time": "2024-07-09T07:51:07.939372Z",
     "start_time": "2024-07-09T07:51:07.933993Z"
    }
   },
   "cell_type": "code",
   "source": [
    "#  'category'가 '[TV/방송]'인 채널의 view TOP5를 알아봅니다.\n",
    "df.loc[df['category'] == '[TV/방송]', :].sort_values('view', ascending=False).head()"
   ],
   "id": "f3b720025b83e273",
   "outputs": [
    {
     "data": {
      "text/plain": [
       "                title category  subscriber         view   video\n",
       "12          KBS World  [TV/방송]    14300000  10158060000   46830\n",
       "22            MBCkpop  [TV/방송]     8670000   6339380000   38695\n",
       "76      KBS Entertain  [TV/방송]     3930000   5340910000   91783\n",
       "57  SBS Entertainment  [TV/방송]     4490000   4516190000  210810\n",
       "77           MBCdrama  [TV/방송]     3920000   4350540000   51543"
      ],
      "text/html": [
       "<div>\n",
       "<style scoped>\n",
       "    .dataframe tbody tr th:only-of-type {\n",
       "        vertical-align: middle;\n",
       "    }\n",
       "\n",
       "    .dataframe tbody tr th {\n",
       "        vertical-align: top;\n",
       "    }\n",
       "\n",
       "    .dataframe thead th {\n",
       "        text-align: right;\n",
       "    }\n",
       "</style>\n",
       "<table border=\"1\" class=\"dataframe\">\n",
       "  <thead>\n",
       "    <tr style=\"text-align: right;\">\n",
       "      <th></th>\n",
       "      <th>title</th>\n",
       "      <th>category</th>\n",
       "      <th>subscriber</th>\n",
       "      <th>view</th>\n",
       "      <th>video</th>\n",
       "    </tr>\n",
       "  </thead>\n",
       "  <tbody>\n",
       "    <tr>\n",
       "      <th>12</th>\n",
       "      <td>KBS World</td>\n",
       "      <td>[TV/방송]</td>\n",
       "      <td>14300000</td>\n",
       "      <td>10158060000</td>\n",
       "      <td>46830</td>\n",
       "    </tr>\n",
       "    <tr>\n",
       "      <th>22</th>\n",
       "      <td>MBCkpop</td>\n",
       "      <td>[TV/방송]</td>\n",
       "      <td>8670000</td>\n",
       "      <td>6339380000</td>\n",
       "      <td>38695</td>\n",
       "    </tr>\n",
       "    <tr>\n",
       "      <th>76</th>\n",
       "      <td>KBS Entertain</td>\n",
       "      <td>[TV/방송]</td>\n",
       "      <td>3930000</td>\n",
       "      <td>5340910000</td>\n",
       "      <td>91783</td>\n",
       "    </tr>\n",
       "    <tr>\n",
       "      <th>57</th>\n",
       "      <td>SBS Entertainment</td>\n",
       "      <td>[TV/방송]</td>\n",
       "      <td>4490000</td>\n",
       "      <td>4516190000</td>\n",
       "      <td>210810</td>\n",
       "    </tr>\n",
       "    <tr>\n",
       "      <th>77</th>\n",
       "      <td>MBCdrama</td>\n",
       "      <td>[TV/방송]</td>\n",
       "      <td>3920000</td>\n",
       "      <td>4350540000</td>\n",
       "      <td>51543</td>\n",
       "    </tr>\n",
       "  </tbody>\n",
       "</table>\n",
       "</div>"
      ]
     },
     "execution_count": 50,
     "metadata": {},
     "output_type": "execute_result"
    }
   ],
   "execution_count": 50
  },
  {
   "metadata": {
    "ExecuteTime": {
     "end_time": "2024-07-09T07:51:11.050680Z",
     "start_time": "2024-07-09T07:51:11.044758Z"
    }
   },
   "cell_type": "code",
   "source": [
    "#  'subscriber'가 30000000 (3천만) 이상인 채널을 알아봅니다.\n",
    "df[df['subscriber'] >= 30000000]"
   ],
   "id": "127ee5a6d2caf352",
   "outputs": [
    {
     "data": {
      "text/plain": [
       "            title    category  subscriber         view  video\n",
       "0       BLACKPINK  [음악/댄스/가수]    51400000  12851300000    319\n",
       "1  Big Hit Labels  [음악/댄스/가수]    45500000  12089660000    433\n",
       "2       BANGTANTV  [음악/댄스/가수]    38700000   5475980000   1319"
      ],
      "text/html": [
       "<div>\n",
       "<style scoped>\n",
       "    .dataframe tbody tr th:only-of-type {\n",
       "        vertical-align: middle;\n",
       "    }\n",
       "\n",
       "    .dataframe tbody tr th {\n",
       "        vertical-align: top;\n",
       "    }\n",
       "\n",
       "    .dataframe thead th {\n",
       "        text-align: right;\n",
       "    }\n",
       "</style>\n",
       "<table border=\"1\" class=\"dataframe\">\n",
       "  <thead>\n",
       "    <tr style=\"text-align: right;\">\n",
       "      <th></th>\n",
       "      <th>title</th>\n",
       "      <th>category</th>\n",
       "      <th>subscriber</th>\n",
       "      <th>view</th>\n",
       "      <th>video</th>\n",
       "    </tr>\n",
       "  </thead>\n",
       "  <tbody>\n",
       "    <tr>\n",
       "      <th>0</th>\n",
       "      <td>BLACKPINK</td>\n",
       "      <td>[음악/댄스/가수]</td>\n",
       "      <td>51400000</td>\n",
       "      <td>12851300000</td>\n",
       "      <td>319</td>\n",
       "    </tr>\n",
       "    <tr>\n",
       "      <th>1</th>\n",
       "      <td>Big Hit Labels</td>\n",
       "      <td>[음악/댄스/가수]</td>\n",
       "      <td>45500000</td>\n",
       "      <td>12089660000</td>\n",
       "      <td>433</td>\n",
       "    </tr>\n",
       "    <tr>\n",
       "      <th>2</th>\n",
       "      <td>BANGTANTV</td>\n",
       "      <td>[음악/댄스/가수]</td>\n",
       "      <td>38700000</td>\n",
       "      <td>5475980000</td>\n",
       "      <td>1319</td>\n",
       "    </tr>\n",
       "  </tbody>\n",
       "</table>\n",
       "</div>"
      ]
     },
     "execution_count": 51,
     "metadata": {},
     "output_type": "execute_result"
    }
   ],
   "execution_count": 51
  },
  {
   "metadata": {
    "ExecuteTime": {
     "end_time": "2024-07-09T07:51:12.598426Z",
     "start_time": "2024-07-09T07:51:12.593361Z"
    }
   },
   "cell_type": "code",
   "source": [
    "#  'video' 개수가 30000 이상 35000 이하인 채널을 알아봅니다.\n",
    "df[(df['video'] >= 30000) & (df['video'] <= 35000)]"
   ],
   "id": "2e989a13a3d9b28a",
   "outputs": [
    {
     "data": {
      "text/plain": [
       "         title    category  subscriber       view  video\n",
       "409  TBS 시민의방송  [뉴스/정치/사회]      930000  582330000  30431"
      ],
      "text/html": [
       "<div>\n",
       "<style scoped>\n",
       "    .dataframe tbody tr th:only-of-type {\n",
       "        vertical-align: middle;\n",
       "    }\n",
       "\n",
       "    .dataframe tbody tr th {\n",
       "        vertical-align: top;\n",
       "    }\n",
       "\n",
       "    .dataframe thead th {\n",
       "        text-align: right;\n",
       "    }\n",
       "</style>\n",
       "<table border=\"1\" class=\"dataframe\">\n",
       "  <thead>\n",
       "    <tr style=\"text-align: right;\">\n",
       "      <th></th>\n",
       "      <th>title</th>\n",
       "      <th>category</th>\n",
       "      <th>subscriber</th>\n",
       "      <th>view</th>\n",
       "      <th>video</th>\n",
       "    </tr>\n",
       "  </thead>\n",
       "  <tbody>\n",
       "    <tr>\n",
       "      <th>409</th>\n",
       "      <td>TBS 시민의방송</td>\n",
       "      <td>[뉴스/정치/사회]</td>\n",
       "      <td>930000</td>\n",
       "      <td>582330000</td>\n",
       "      <td>30431</td>\n",
       "    </tr>\n",
       "  </tbody>\n",
       "</table>\n",
       "</div>"
      ]
     },
     "execution_count": 52,
     "metadata": {},
     "output_type": "execute_result"
    }
   ],
   "execution_count": 52
  },
  {
   "metadata": {
    "ExecuteTime": {
     "end_time": "2024-07-09T07:51:14.078465Z",
     "start_time": "2024-07-09T07:51:14.068030Z"
    }
   },
   "cell_type": "code",
   "source": [
    "#  'subscriber'가 30000000 (3천만)이상 이거나,\n",
    "#  'video' 개수가 50000 이상인 채널을 알아봅니다.\n",
    "df.loc[(df['subscriber'] >= 30000000) | (df['video'] >= 50000), :]"
   ],
   "id": "32f53063f4270f0c",
   "outputs": [
    {
     "data": {
      "text/plain": [
       "                  title    category  subscriber         view   video\n",
       "0             BLACKPINK  [음악/댄스/가수]    51400000  12851300000     319\n",
       "1        Big Hit Labels  [음악/댄스/가수]    45500000  12089660000     433\n",
       "2             BANGTANTV  [음악/댄스/가수]    38700000   5475980000    1319\n",
       "17                  CNN  [뉴스/정치/사회]    10900000   7899750000  149530\n",
       "27     MBCentertainment  [뉴스/정치/사회]     7710000  11683060000   79567\n",
       "38   JTBC Entertainment  [뉴스/정치/사회]     6020000   7638370000   58938\n",
       "57    SBS Entertainment     [TV/방송]     4490000   4516190000  210810\n",
       "60            SBS Drama     [TV/방송]     4360000   4260860000  339029\n",
       "76        KBS Entertain     [TV/방송]     3930000   5340910000   91783\n",
       "77             MBCdrama     [TV/방송]     3920000   4350540000   51543\n",
       "101           KBS Drama     [TV/방송]     3040000   3538510000  105922\n",
       "119                 tvN     [TV/방송]     2680000   3307570000   52141\n",
       "168           TV CHOSUN  [뉴스/정치/사회]     1990000   3255290000   53632\n",
       "169            YTN news  [뉴스/정치/사회]     1970000   3801710000  492791\n",
       "176     런닝맨 - 스브스 공식 채널     [TV/방송]     1880000   2116410000   52730\n",
       "248           JTBC News  [뉴스/정치/사회]     1400000   1573740000   91379\n",
       "366              SBS 뉴스  [뉴스/정치/사회]     1010000   1458080000   87768\n",
       "373           SBS STORY  [뉴스/정치/사회]      990000   1254640000   75985\n",
       "389            KBS News  [뉴스/정치/사회]      960000   1017410000  145515\n",
       "402              채널A 뉴스  [뉴스/정치/사회]      940000   1039130000   52662\n",
       "431             MBCNEWS  [뉴스/정치/사회]      890000   1388710000   87228\n",
       "502          뉴스TVCHOSUN  [뉴스/정치/사회]      770000    623510000   57729\n",
       "701            MBN News  [뉴스/정치/사회]      570000    623580000   72397\n",
       "737              연합뉴스TV  [뉴스/정치/사회]      550000    697650000  311370\n",
       "988        ARIRANG NEWS  [뉴스/정치/사회]      400000    190750000  114494\n",
       "992              KBS 교양  [뉴스/정치/사회]      400000    297960000   64694"
      ],
      "text/html": [
       "<div>\n",
       "<style scoped>\n",
       "    .dataframe tbody tr th:only-of-type {\n",
       "        vertical-align: middle;\n",
       "    }\n",
       "\n",
       "    .dataframe tbody tr th {\n",
       "        vertical-align: top;\n",
       "    }\n",
       "\n",
       "    .dataframe thead th {\n",
       "        text-align: right;\n",
       "    }\n",
       "</style>\n",
       "<table border=\"1\" class=\"dataframe\">\n",
       "  <thead>\n",
       "    <tr style=\"text-align: right;\">\n",
       "      <th></th>\n",
       "      <th>title</th>\n",
       "      <th>category</th>\n",
       "      <th>subscriber</th>\n",
       "      <th>view</th>\n",
       "      <th>video</th>\n",
       "    </tr>\n",
       "  </thead>\n",
       "  <tbody>\n",
       "    <tr>\n",
       "      <th>0</th>\n",
       "      <td>BLACKPINK</td>\n",
       "      <td>[음악/댄스/가수]</td>\n",
       "      <td>51400000</td>\n",
       "      <td>12851300000</td>\n",
       "      <td>319</td>\n",
       "    </tr>\n",
       "    <tr>\n",
       "      <th>1</th>\n",
       "      <td>Big Hit Labels</td>\n",
       "      <td>[음악/댄스/가수]</td>\n",
       "      <td>45500000</td>\n",
       "      <td>12089660000</td>\n",
       "      <td>433</td>\n",
       "    </tr>\n",
       "    <tr>\n",
       "      <th>2</th>\n",
       "      <td>BANGTANTV</td>\n",
       "      <td>[음악/댄스/가수]</td>\n",
       "      <td>38700000</td>\n",
       "      <td>5475980000</td>\n",
       "      <td>1319</td>\n",
       "    </tr>\n",
       "    <tr>\n",
       "      <th>17</th>\n",
       "      <td>CNN</td>\n",
       "      <td>[뉴스/정치/사회]</td>\n",
       "      <td>10900000</td>\n",
       "      <td>7899750000</td>\n",
       "      <td>149530</td>\n",
       "    </tr>\n",
       "    <tr>\n",
       "      <th>27</th>\n",
       "      <td>MBCentertainment</td>\n",
       "      <td>[뉴스/정치/사회]</td>\n",
       "      <td>7710000</td>\n",
       "      <td>11683060000</td>\n",
       "      <td>79567</td>\n",
       "    </tr>\n",
       "    <tr>\n",
       "      <th>38</th>\n",
       "      <td>JTBC Entertainment</td>\n",
       "      <td>[뉴스/정치/사회]</td>\n",
       "      <td>6020000</td>\n",
       "      <td>7638370000</td>\n",
       "      <td>58938</td>\n",
       "    </tr>\n",
       "    <tr>\n",
       "      <th>57</th>\n",
       "      <td>SBS Entertainment</td>\n",
       "      <td>[TV/방송]</td>\n",
       "      <td>4490000</td>\n",
       "      <td>4516190000</td>\n",
       "      <td>210810</td>\n",
       "    </tr>\n",
       "    <tr>\n",
       "      <th>60</th>\n",
       "      <td>SBS Drama</td>\n",
       "      <td>[TV/방송]</td>\n",
       "      <td>4360000</td>\n",
       "      <td>4260860000</td>\n",
       "      <td>339029</td>\n",
       "    </tr>\n",
       "    <tr>\n",
       "      <th>76</th>\n",
       "      <td>KBS Entertain</td>\n",
       "      <td>[TV/방송]</td>\n",
       "      <td>3930000</td>\n",
       "      <td>5340910000</td>\n",
       "      <td>91783</td>\n",
       "    </tr>\n",
       "    <tr>\n",
       "      <th>77</th>\n",
       "      <td>MBCdrama</td>\n",
       "      <td>[TV/방송]</td>\n",
       "      <td>3920000</td>\n",
       "      <td>4350540000</td>\n",
       "      <td>51543</td>\n",
       "    </tr>\n",
       "    <tr>\n",
       "      <th>101</th>\n",
       "      <td>KBS Drama</td>\n",
       "      <td>[TV/방송]</td>\n",
       "      <td>3040000</td>\n",
       "      <td>3538510000</td>\n",
       "      <td>105922</td>\n",
       "    </tr>\n",
       "    <tr>\n",
       "      <th>119</th>\n",
       "      <td>tvN</td>\n",
       "      <td>[TV/방송]</td>\n",
       "      <td>2680000</td>\n",
       "      <td>3307570000</td>\n",
       "      <td>52141</td>\n",
       "    </tr>\n",
       "    <tr>\n",
       "      <th>168</th>\n",
       "      <td>TV CHOSUN</td>\n",
       "      <td>[뉴스/정치/사회]</td>\n",
       "      <td>1990000</td>\n",
       "      <td>3255290000</td>\n",
       "      <td>53632</td>\n",
       "    </tr>\n",
       "    <tr>\n",
       "      <th>169</th>\n",
       "      <td>YTN news</td>\n",
       "      <td>[뉴스/정치/사회]</td>\n",
       "      <td>1970000</td>\n",
       "      <td>3801710000</td>\n",
       "      <td>492791</td>\n",
       "    </tr>\n",
       "    <tr>\n",
       "      <th>176</th>\n",
       "      <td>런닝맨 - 스브스 공식 채널</td>\n",
       "      <td>[TV/방송]</td>\n",
       "      <td>1880000</td>\n",
       "      <td>2116410000</td>\n",
       "      <td>52730</td>\n",
       "    </tr>\n",
       "    <tr>\n",
       "      <th>248</th>\n",
       "      <td>JTBC News</td>\n",
       "      <td>[뉴스/정치/사회]</td>\n",
       "      <td>1400000</td>\n",
       "      <td>1573740000</td>\n",
       "      <td>91379</td>\n",
       "    </tr>\n",
       "    <tr>\n",
       "      <th>366</th>\n",
       "      <td>SBS 뉴스</td>\n",
       "      <td>[뉴스/정치/사회]</td>\n",
       "      <td>1010000</td>\n",
       "      <td>1458080000</td>\n",
       "      <td>87768</td>\n",
       "    </tr>\n",
       "    <tr>\n",
       "      <th>373</th>\n",
       "      <td>SBS STORY</td>\n",
       "      <td>[뉴스/정치/사회]</td>\n",
       "      <td>990000</td>\n",
       "      <td>1254640000</td>\n",
       "      <td>75985</td>\n",
       "    </tr>\n",
       "    <tr>\n",
       "      <th>389</th>\n",
       "      <td>KBS News</td>\n",
       "      <td>[뉴스/정치/사회]</td>\n",
       "      <td>960000</td>\n",
       "      <td>1017410000</td>\n",
       "      <td>145515</td>\n",
       "    </tr>\n",
       "    <tr>\n",
       "      <th>402</th>\n",
       "      <td>채널A 뉴스</td>\n",
       "      <td>[뉴스/정치/사회]</td>\n",
       "      <td>940000</td>\n",
       "      <td>1039130000</td>\n",
       "      <td>52662</td>\n",
       "    </tr>\n",
       "    <tr>\n",
       "      <th>431</th>\n",
       "      <td>MBCNEWS</td>\n",
       "      <td>[뉴스/정치/사회]</td>\n",
       "      <td>890000</td>\n",
       "      <td>1388710000</td>\n",
       "      <td>87228</td>\n",
       "    </tr>\n",
       "    <tr>\n",
       "      <th>502</th>\n",
       "      <td>뉴스TVCHOSUN</td>\n",
       "      <td>[뉴스/정치/사회]</td>\n",
       "      <td>770000</td>\n",
       "      <td>623510000</td>\n",
       "      <td>57729</td>\n",
       "    </tr>\n",
       "    <tr>\n",
       "      <th>701</th>\n",
       "      <td>MBN News</td>\n",
       "      <td>[뉴스/정치/사회]</td>\n",
       "      <td>570000</td>\n",
       "      <td>623580000</td>\n",
       "      <td>72397</td>\n",
       "    </tr>\n",
       "    <tr>\n",
       "      <th>737</th>\n",
       "      <td>연합뉴스TV</td>\n",
       "      <td>[뉴스/정치/사회]</td>\n",
       "      <td>550000</td>\n",
       "      <td>697650000</td>\n",
       "      <td>311370</td>\n",
       "    </tr>\n",
       "    <tr>\n",
       "      <th>988</th>\n",
       "      <td>ARIRANG NEWS</td>\n",
       "      <td>[뉴스/정치/사회]</td>\n",
       "      <td>400000</td>\n",
       "      <td>190750000</td>\n",
       "      <td>114494</td>\n",
       "    </tr>\n",
       "    <tr>\n",
       "      <th>992</th>\n",
       "      <td>KBS 교양</td>\n",
       "      <td>[뉴스/정치/사회]</td>\n",
       "      <td>400000</td>\n",
       "      <td>297960000</td>\n",
       "      <td>64694</td>\n",
       "    </tr>\n",
       "  </tbody>\n",
       "</table>\n",
       "</div>"
      ]
     },
     "execution_count": 53,
     "metadata": {},
     "output_type": "execute_result"
    }
   ],
   "execution_count": 53
  },
  {
   "metadata": {
    "ExecuteTime": {
     "end_time": "2024-07-09T07:51:24.830584Z",
     "start_time": "2024-07-09T07:51:24.825469Z"
    }
   },
   "cell_type": "code",
   "source": [
    "# 'category'가 'TV/방송' 이거나 '게임'인 채널의 개수를 확인합니다.  (262개)\n",
    "temp = df[(df['category'] == '[TV/방송]') | (df['category'] == '[게임]')]\n",
    "len(temp)"
   ],
   "id": "de8d2ded996663aa",
   "outputs": [
    {
     "data": {
      "text/plain": [
       "262"
      ]
     },
     "execution_count": 55,
     "metadata": {},
     "output_type": "execute_result"
    }
   ],
   "execution_count": 55
  },
  {
   "metadata": {
    "ExecuteTime": {
     "end_time": "2024-07-09T07:51:48.570881Z",
     "start_time": "2024-07-09T07:51:48.564298Z"
    }
   },
   "cell_type": "code",
   "source": [
    "#  title에 'KBS'가 포함된 채널 명 목록을 만들어 봅니다.\n",
    "df[df['title'].str.contains('KBS')]['title']"
   ],
   "id": "7504affe37ab0cea",
   "outputs": [
    {
     "data": {
      "text/plain": [
       "12                    KBS World\n",
       "46                     KBS Kpop\n",
       "76                KBS Entertain\n",
       "101                   KBS Drama\n",
       "290                    KBS 한국방송\n",
       "292           KBS Drama Classic\n",
       "308             KBS HUMAN: 뭉클티비\n",
       "389                    KBS News\n",
       "457                  KBS CoolFM\n",
       "716                       KBS N\n",
       "777                    KBS KONG\n",
       "991    KBS Documentary [KBS 다큐]\n",
       "992                      KBS 교양\n",
       "Name: title, dtype: object"
      ]
     },
     "execution_count": 56,
     "metadata": {},
     "output_type": "execute_result"
    }
   ],
   "execution_count": 56
  },
  {
   "metadata": {
    "ExecuteTime": {
     "end_time": "2024-07-09T07:51:58.276275Z",
     "start_time": "2024-07-09T07:51:58.272552Z"
    }
   },
   "cell_type": "code",
   "source": "df.loc[df['title'].str.contains('KBS'), 'title']",
   "id": "e392c68a6c581cff",
   "outputs": [
    {
     "data": {
      "text/plain": [
       "12                    KBS World\n",
       "46                     KBS Kpop\n",
       "76                KBS Entertain\n",
       "101                   KBS Drama\n",
       "290                    KBS 한국방송\n",
       "292           KBS Drama Classic\n",
       "308             KBS HUMAN: 뭉클티비\n",
       "389                    KBS News\n",
       "457                  KBS CoolFM\n",
       "716                       KBS N\n",
       "777                    KBS KONG\n",
       "991    KBS Documentary [KBS 다큐]\n",
       "992                      KBS 교양\n",
       "Name: title, dtype: object"
      ]
     },
     "execution_count": 58,
     "metadata": {},
     "output_type": "execute_result"
    }
   ],
   "execution_count": 58
  },
  {
   "metadata": {
    "ExecuteTime": {
     "end_time": "2024-07-09T07:52:05.480480Z",
     "start_time": "2024-07-09T07:52:05.473324Z"
    }
   },
   "cell_type": "code",
   "source": [
    "# 대소문자 구분 없이 검색 하려면?\n",
    "df.loc[df['title'].str.lower().str.contains('kbs'), 'title']"
   ],
   "id": "5cfe31378b5fa363",
   "outputs": [
    {
     "data": {
      "text/plain": [
       "12                    KBS World\n",
       "46                     KBS Kpop\n",
       "76                KBS Entertain\n",
       "101                   KBS Drama\n",
       "290                    KBS 한국방송\n",
       "292           KBS Drama Classic\n",
       "308             KBS HUMAN: 뭉클티비\n",
       "389                    KBS News\n",
       "457                  KBS CoolFM\n",
       "716                       KBS N\n",
       "777                    KBS KONG\n",
       "991    KBS Documentary [KBS 다큐]\n",
       "992                      KBS 교양\n",
       "Name: title, dtype: object"
      ]
     },
     "execution_count": 59,
     "metadata": {},
     "output_type": "execute_result"
    }
   ],
   "execution_count": 59
  }
 ],
 "metadata": {
  "kernelspec": {
   "display_name": "Python 3",
   "language": "python",
   "name": "python3"
  },
  "language_info": {
   "codemirror_mode": {
    "name": "ipython",
    "version": 2
   },
   "file_extension": ".py",
   "mimetype": "text/x-python",
   "name": "python",
   "nbconvert_exporter": "python",
   "pygments_lexer": "ipython2",
   "version": "2.7.6"
  }
 },
 "nbformat": 4,
 "nbformat_minor": 5
}

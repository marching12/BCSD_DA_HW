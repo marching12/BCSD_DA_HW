{
 "cells": [
  {
   "cell_type": "code",
   "id": "initial_id",
   "metadata": {
    "collapsed": true,
    "ExecuteTime": {
     "end_time": "2024-11-04T05:05:55.059462Z",
     "start_time": "2024-11-04T05:05:55.039610Z"
    }
   },
   "source": [
    "import pandas as pd\n",
    "import numpy as np\n",
    "import matplotlib.pyplot as plt\n",
    "\n",
    "df_daily_temp = pd.read_csv('daily_temperatures.csv')\n",
    "df_high_blood = pd.read_csv('high_blood_pressure.csv')\n",
    "print(df_daily_temp.head())\n",
    "print(df_high_blood.head())"
   ],
   "outputs": [
    {
     "name": "stdout",
     "output_type": "stream",
     "text": [
      "   Daily Average Temperature\n",
      "0                  28.820262\n",
      "1                  22.000786\n",
      "2                  24.893690\n",
      "3                  31.204466\n",
      "4                  29.337790\n",
      "     Id     sex  age  bp_pre  bp_post\n",
      "0  p001    Male   33     149      129\n",
      "1  p002    Male   39     168      168\n",
      "2  p003    Male   70     176      155\n",
      "3  p004  Female   41     169      178\n",
      "4  p005    Male   48     160      126\n"
     ]
    }
   ],
   "execution_count": 91
  },
  {
   "metadata": {},
   "cell_type": "markdown",
   "source": [
    "# 데이터 로드\n",
    "* Daily Average Temperature: 일일 평균 온도, 각 행이 하루의 평균 온도 데이터로 이루어짐\n",
    "\n",
    "* 혈압 데이터:\n",
    "    * 사람의 성별, 나이, 혈압의 변화를 기록한 데이터\n",
    "    * Id: 환자의 고유 식별자\n",
    "    * sex: 성별 \n",
    "    * age: 환자의 나이\n",
    "    * bp_pre: 측정된 초기 혈압 (검사 전 혈압)\n",
    "    * bp_post: 후속 혈압 (검사 후 혈압)"
   ],
   "id": "5a01860794142cc1"
  },
  {
   "metadata": {
    "ExecuteTime": {
     "end_time": "2024-11-04T05:11:16.917887Z",
     "start_time": "2024-11-04T05:11:16.902772Z"
    }
   },
   "cell_type": "code",
   "source": [
    "import pandas as pd\n",
    "from scipy.stats import shapiro, bartlett, chi2_contingency\n",
    "from itertools import combinations\n",
    "\n",
    "\n",
    "class IntegrationTest:\n",
    "    # 열의 개수와 데이터 타입이 다르므로 동적으로 할당받고 예외처리를 해줘야함\n",
    "    # 정규성과 등분산성은 숫자만 가능\n",
    "    # ttset까지 시간 남으면 구현. fxxk 남을리가;;\n",
    "    def __init__(self, data):\n",
    "        self.data = data\n",
    "        self.results = {}  # 결과 저장용 딕셔너리\n",
    "\n",
    "    def test_normality(self):\n",
    "        # 정규성 검정 (Shapiro-Wilk Test) - 숫자형 열만 수행\n",
    "        for column in self.data.select_dtypes(include=['number']).columns:\n",
    "            stat, p_value = shapiro(self.data[column])\n",
    "            self.results[f'정규성 {column}'] = p_value > 0.05\n",
    "            print(f\"정규성 검정 (Shapiro-Wilk) - {column}: p-value =\", round(p_value,4))\n",
    "            print(f\"정규성 검정 (Shapiro-Wilk) - {column}: T =\", round(stat,4))\n",
    "\n",
    "    def test_homoscedasticity(self):\n",
    "        # 등분산성 검정 (Bartlett Test) - 모든 숫자형 열 쌍에 대해 수행\n",
    "        numeric_columns = self.data.select_dtypes(include=['number']).columns\n",
    "        for col1, col2 in combinations(numeric_columns, 2):\n",
    "            stat, p_value = bartlett(self.data[col1], self.data[col2])\n",
    "            self.results[f'등분산성 {col1}, {col2}'] = p_value > 0.05\n",
    "            # print(f\"등분산성 검정 (Bartlett) - {col1} & {col2}: p-value =\", p_value) 출력안해도 될듯\n",
    "\n",
    "    def test_independence(self):\n",
    "        # 독립성 검정 (Chi-square Test) - 모든 열 쌍에 대해 수행\n",
    "        for col1, col2 in combinations(self.data.columns, 2):\n",
    "            # 카이제곱 검정은 범주형 데이터를 대상으로 함\n",
    "            cross_tab = pd.crosstab(self.data[col1], self.data[col2])\n",
    "            stat, p_value, x, y = chi2_contingency(cross_tab)\n",
    "            self.results[f'독립성 {col1}, {col2}'] = p_value > 0.05\n",
    "            # print(f\"독립성 검정 (카이제곱) - {col1} & {col2}: p-value =\", p_value)\n",
    "\n",
    "    def run_all_tests(self):\n",
    "        # 모든 검정을 실행\n",
    "        self.test_normality()\n",
    "        self.test_homoscedasticity()\n",
    "        self.test_independence()\n",
    "\n",
    "    def get_results(self):\n",
    "        # 검정 결과 반환\n",
    "        return self.results\n",
    "    \n",
    "    def print_results(self):\n",
    "        results = self.get_results()\n",
    "        print(\"\\n검정 결과:\")\n",
    "        for test_name, result in results.items():\n",
    "            formatted_name = test_name.replace('_', ' ')\n",
    "            print(f\"{formatted_name}: {'만족' if result else '불만족'}\")"
   ],
   "id": "9b45340f4b0bf565",
   "outputs": [],
   "execution_count": 101
  },
  {
   "metadata": {},
   "cell_type": "markdown",
   "source": [
    "# 검증함수 학습\n",
    "[[통계, Python] 정규성, 독립성, 등분산성 검정 파헤치기 + SciPy를 활용한 파이썬 예제](https://m.blog.naver.com/willie123/222103777303)"
   ],
   "id": "6c513b3382b0d307"
  },
  {
   "metadata": {
    "ExecuteTime": {
     "end_time": "2024-11-04T05:05:55.245870Z",
     "start_time": "2024-11-04T05:05:55.155722Z"
    }
   },
   "cell_type": "code",
   "source": [
    "# 나이 별 전후 혈압의 차이\n",
    "df_temp = df_high_blood[['age', 'bp_pre', 'bp_post']].copy()\n",
    "df_temp['age'] = df_temp['age']/10\n",
    "df_temp = df_temp.astype('int64')\n",
    "df_age_state = df_temp.groupby('age')[['bp_pre','bp_post']].mean()\n",
    "\n",
    "print(df_age_state.head())\n",
    "\n",
    "# 히스토그램 출력\n",
    "plt.figure(figsize=(10, 5))\n",
    "# 나이를 x축으로, 'bp_pre'와 'bp_post' 평균을 y축으로 설정\n",
    "plt.bar(df_age_state.index-0.15, df_age_state['bp_pre'], width=0.3, label='bp_pre')\n",
    "plt.bar(df_age_state.index+0.15, df_age_state['bp_post'], width=0.3, label='bp_post')\n",
    "\n",
    "plt.xlabel('age*10')\n",
    "plt.ylabel('mean bp')\n",
    "plt.title('age mean')\n",
    "plt.xticks(df_age_state.index)  # x축에 나이값 표시\n",
    "plt.legend()\n",
    "plt.show()\n",
    "\n"
   ],
   "id": "bfd7a780f0fe4dba",
   "outputs": [
    {
     "name": "stdout",
     "output_type": "stream",
     "text": [
      "         bp_pre     bp_post\n",
      "age                        \n",
      "3    163.294118  156.294118\n",
      "4    164.481481  161.481481\n",
      "5    161.258065  157.322581\n",
      "6    163.680000  157.920000\n",
      "7    166.500000  153.100000\n"
     ]
    },
    {
     "data": {
      "text/plain": [
       "<Figure size 1000x500 with 1 Axes>"
      ],
      "image/png": "[encoded data removed]"
     },
     "metadata": {},
     "output_type": "display_data"
    }
   ],
   "execution_count": 93
  },
  {
   "metadata": {},
   "cell_type": "markdown",
   "source": [
    "### 탐색적 데이터 분석\n",
    "* 치료 전후에 혈압이 줄긴 함\n",
    "* 의미 있는 정도인지는 모르겠음\n",
    "\n",
    "# t 검정 학습\n",
    "[T-검정 이해하기: 독립 표본 t-검정과 대응 표본 t-검정](https://jae-eun-ai.tistory.com/48)"
   ],
   "id": "a37e31023724f022"
  },
  {
   "metadata": {
    "ExecuteTime": {
     "end_time": "2024-11-04T05:05:55.292677Z",
     "start_time": "2024-11-04T05:05:55.266488Z"
    }
   },
   "cell_type": "code",
   "source": [
    "from scipy.stats import ttest_rel\n",
    "\n",
    "df_high_blood['div_bp'] = df_high_blood['bp_pre']-df_high_blood['bp_post']\n",
    "\n",
    "df_div = df_high_blood['div_bp'].mean()\n",
    "# 클래스 인스턴스 생성 및 검정 실행\n",
    "test = IntegrationTest(df_high_blood[['age', 'div_bp', 'sex']])\n",
    "test.run_all_tests()\n",
    "\n",
    "# 결과 출력\n",
    "test.print_results()\n",
    "\n",
    "df_temp = df_high_blood['div_bp'].mean()\n",
    "print(\"표본평균 : \", round(df_temp, 2))\n",
    "T, p_value = map(lambda x: round(x,4), ttest_rel(df_high_blood['bp_post'], df_high_blood['bp_pre']))\n",
    "print(f\"검정통계량: {T}, p-value: {p_value}\")\n",
    "\n"
   ],
   "id": "77924ddc3347fe93",
   "outputs": [
    {
     "name": "stdout",
     "output_type": "stream",
     "text": [
      "정규성 검정 (Shapiro-Wilk) - age: p-value = 0.005140886006355254\n",
      "정규성 검정 (Shapiro-Wilk) - age: T = 0.9673299239308354\n",
      "정규성 검정 (Shapiro-Wilk) - div_bp: p-value = 0.05016313578078596\n",
      "정규성 검정 (Shapiro-Wilk) - div_bp: T = 0.9783606935166829\n",
      "\n",
      "검정 결과:\n",
      "정규성 age: 불만족\n",
      "정규성 div bp: 만족\n",
      "등분산성 age, div bp: 불만족\n",
      "독립성 age, div bp: 만족\n",
      "독립성 age, sex: 만족\n",
      "독립성 div bp, sex: 만족\n",
      "표본평균 :  6.12\n",
      "검정통계량: -3.0002, p-value: 0.0033\n"
     ]
    }
   ],
   "execution_count": 94
  },
  {
   "metadata": {},
   "cell_type": "markdown",
   "source": [
    "### 분석\n",
    "혈압차 데이터는 정규성과 독립성은 만족하지만 등분산성을 만족하지 않기 때문에 가설검증에 적합하지 않아보인다.\n",
    "* 귀무가설 : 고혈압 환자에게 치료는 효과가 없을 것이다.\n",
    "* 표본평균이 6.12이므로 평균적으로 6.12정도의 치료 전후의 혈압차가 있음\n",
    "* 검정통계량이 -3.0002이므로 치료 후가 치료 전보다 혈압이 유의미하게 낮음\n",
    "* p-value가 유의수준인 0.05보다 낮으니 귀무가설을 기각함\n",
    "* T = 6.12에 해당하는 평균적인 혈압차가 생겼고 치료 후가 치료 전보다 혈압이 낮아졌으며 p-value를 봤을 때 귀무가설을 기각할 수 있으므로 혈압치료는 효과가 있는 것으로 보임"
   ],
   "id": "b9ec30d678c64990"
  },
  {
   "metadata": {
    "ExecuteTime": {
     "end_time": "2024-11-04T05:05:55.319049Z",
     "start_time": "2024-11-04T05:05:55.310556Z"
    }
   },
   "cell_type": "code",
   "source": [
    "from scipy.stats import ttest_ind\n",
    "\n",
    "# 데이터 정의\n",
    "group1 = [36.8, 36.7, 37.1, 36.9, 37.2, 36.8, 36.9, 37.1, 36.7, 37.1]\n",
    "group2 = [36.5, 36.6, 36.3, 36.6, 36.9, 36.7, 36.7, 36.8, 36.5, 36.7]\n",
    "\n",
    "df_not_medicine = pd.DataFrame({'temperature' : group1})\n",
    "df_take_medicine = pd.DataFrame({'temperature' : group2})\n",
    "test1 = IntegrationTest(df_not_medicine)\n",
    "test1.run_all_tests()\n",
    "test2 = IntegrationTest(df_take_medicine)\n",
    "test2.run_all_tests()\n",
    "print(\"not_medicine\")\n",
    "test1.print_results()\n",
    "print(\"-----------------\")\n",
    "print(\"take_medicine\")\n",
    "test2.print_results()\n",
    "\n",
    "T, p_value = map(lambda x: round(x,4), ttest_ind(df_take_medicine['temperature'], df_not_medicine['temperature']))\n",
    "print(f\"검정통계량: {T}, p-value: {p_value}\")\n",
    " \n",
    "\n"
   ],
   "id": "82170ec68934e6fb",
   "outputs": [
    {
     "name": "stdout",
     "output_type": "stream",
     "text": [
      "정규성 검정 (Shapiro-Wilk) - temperature: p-value = 0.2025800152029294\n",
      "정규성 검정 (Shapiro-Wilk) - temperature: T = 0.8969133747040112\n",
      "정규성 검정 (Shapiro-Wilk) - temperature: p-value = 0.8497324952284004\n",
      "정규성 검정 (Shapiro-Wilk) - temperature: T = 0.9658310017893624\n",
      "not_medicine\n",
      "\n",
      "검정 결과:\n",
      "정규성 temperature: 만족\n",
      "-----------------\n",
      "take_medicine\n",
      "\n",
      "검정 결과:\n",
      "정규성 temperature: 만족\n",
      "검정통계량: -3.7964, p-value: 0.0013\n"
     ]
    }
   ],
   "execution_count": 95
  },
  {
   "metadata": {},
   "cell_type": "markdown",
   "source": [
    "### 분석\n",
    "* 정규성을 만족함\n",
    "* 귀무가설 : 약 복용이 환자에게 효과가 없을 것이다.\n",
    "* 검정통계량이 3.7964이므로 약 복용 전과 후의 체온 차가 유의미함 (음수는 상관없음)\n",
    "* p-value가 유의수준인 0.05보다 낮으니 귀무가설을 기각함\n",
    "* T = 3.7964에 해당하는 평균적인 체온차가 생겼고 p-value를 봤을 때 귀무가설을 기각할 수 있으므로 약 복용은 효과가 있는 것으로 보임"
   ],
   "id": "1f59cca886c2f23b"
  },
  {
   "metadata": {},
   "cell_type": "markdown",
   "source": "\n",
   "id": "21496ee664b38cf1"
  },
  {
   "metadata": {
    "ExecuteTime": {
     "end_time": "2024-11-04T05:05:55.359564Z",
     "start_time": "2024-11-04T05:05:55.349123Z"
    }
   },
   "cell_type": "code",
   "source": [
    "import scipy.stats as st\n",
    "\n",
    "test3=IntegrationTest(df_daily_temp)\n",
    "test3.run_all_tests()\n",
    "test3.print_results()\n",
    "# 점 추정 : 평균온도\n",
    "mean_daily_temp = round(df_daily_temp['Daily Average Temperature'].mean(),2)\n",
    "print(\"점 추정 : \", mean_daily_temp)\n",
    "\n",
    "# 구간 추정 \n",
    "df = len(df_daily_temp)-1\n",
    "mu = np.mean(df_daily_temp['Daily Average Temperature'])\n",
    "se = st.sem(df_daily_temp['Daily Average Temperature'])\n",
    "min, max = map(lambda x : round(x,4), st.t.interval(0.95,df,loc=mu,scale=se))\n",
    "print(f\"구간추정 95% 신뢰구간:\", min, max)\n"
   ],
   "id": "ed0c1cdac184c6a9",
   "outputs": [
    {
     "name": "stdout",
     "output_type": "stream",
     "text": [
      "정규성 검정 (Shapiro-Wilk) - Daily Average Temperature: p-value = 0.18591539006380725\n",
      "정규성 검정 (Shapiro-Wilk) - Daily Average Temperature: T = 0.9942529227389176\n",
      "\n",
      "검정 결과:\n",
      "정규성 Daily Average Temperature: 만족\n",
      "점 추정 :  19.94\n",
      "구간추정 95% 신뢰구간: 19.4279 20.4473\n"
     ]
    }
   ],
   "execution_count": 96
  },
  {
   "metadata": {},
   "cell_type": "markdown",
   "source": [
    "* [점추정과 구간추정](https://warm-uk.tistory.com/24)\n",
    "* [신뢰구간 함수](https://jimmy-ai.tistory.com/356)"
   ],
   "id": "2daba87dcfe2ba96"
  },
  {
   "metadata": {
    "ExecuteTime": {
     "end_time": "2024-11-04T05:05:55.384247Z",
     "start_time": "2024-11-04T05:05:55.379335Z"
    }
   },
   "cell_type": "code",
   "source": [
    "from scipy.stats import f_oneway\n",
    "\n",
    "# 각 그룹의 데이터\n",
    "groupA = [85, 92, 78, 88, 83, 90, 76, 84, 92, 87]\n",
    "groupB = [79, 69, 84, 78, 79, 83, 79, 81, 86, 88]\n",
    "groupC = [75, 68, 74, 65, 77, 72, 70, 73, 78, 75]\n",
    "\n",
    "f_value, p_value = f_oneway(groupA, groupB, groupC)\n",
    "f_value = round(f_value, 2)\n",
    "p_value = round(p_value, 6)\n",
    "print(f\"f-value: {f_value}, p-value: {p_value}\")"
   ],
   "id": "9eaa9b6abe22bf5f",
   "outputs": [
    {
     "name": "stdout",
     "output_type": "stream",
     "text": [
      "f-value: 16.88, p-value: 1.8e-05\n"
     ]
    }
   ],
   "execution_count": 97
  },
  {
   "metadata": {},
   "cell_type": "markdown",
   "source": [
    "### 분산분석\n",
    "[f-value와 ANOVA](https://chasingdreams.tistory.com/62)\n",
    "* f-value가 큰걸 보니 그룹 간 변동이 그룹내 변동보다 크다\n",
    "* p-value가 0.05보다 작으니 귀무가설을 기각 그룹 간 평균성적의 차이는 통계적으로 유의미한 차이가 있을 가능성이 크다"
   ],
   "id": "2487097fe09a8811"
  },
  {
   "metadata": {
    "ExecuteTime": {
     "end_time": "2024-11-04T05:11:33.295141Z",
     "start_time": "2024-11-04T05:11:33.286815Z"
    }
   },
   "cell_type": "code",
   "source": [
    "data = [75, 83, 81, 92, 68, 77, 78, 80, 85, 95, 79, 89]\n",
    "df_data = pd.DataFrame(data)\n",
    "test5 = IntegrationTest(df_data)\n",
    "test5.run_all_tests()\n",
    "test5.print_results()"
   ],
   "id": "24af320784656eb4",
   "outputs": [
    {
     "name": "stdout",
     "output_type": "stream",
     "text": [
      "정규성 검정 (Shapiro-Wilk) - 0: p-value = 0.9677\n",
      "정규성 검정 (Shapiro-Wilk) - 0: T = 0.9768\n",
      "\n",
      "검정 결과:\n",
      "정규성 0: 만족\n"
     ]
    }
   ],
   "execution_count": 103
  },
  {
   "metadata": {},
   "cell_type": "markdown",
   "source": [
    "T값이 1에 굉장히 가깝기에 정규분포를 따를 가능성이 높음\n",
    "p-value값이 0.05보다 크기 때문에 귀무가설을 기각할 수 없음, 따라서 데이터는 정규분프를 따를것임"
   ],
   "id": "1b489368d23c6a18"
  }
 ],
 "metadata": {
  "kernelspec": {
   "display_name": "Python 3",
   "language": "python",
   "name": "python3"
  },
  "language_info": {
   "codemirror_mode": {
    "name": "ipython",
    "version": 2
   },
   "file_extension": ".py",
   "mimetype": "text/x-python",
   "name": "python",
   "nbconvert_exporter": "python",
   "pygments_lexer": "ipython2",
   "version": "2.7.6"
  }
 },
 "nbformat": 4,
 "nbformat_minor": 5
}
